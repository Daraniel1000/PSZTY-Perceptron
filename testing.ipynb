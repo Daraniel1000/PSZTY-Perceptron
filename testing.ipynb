{
 "cells": [
  {
   "cell_type": "code",
   "execution_count": 688,
   "metadata": {},
   "outputs": [],
   "source": [
    "%matplotlib notebook\n",
    "%matplotlib inline\n",
    "import numpy as np\n",
    "import csv\n",
    "import perceptron\n",
    "import matplotlib.pyplot as plt"
   ]
  },
  {
   "cell_type": "code",
   "execution_count": 689,
   "metadata": {},
   "outputs": [
    {
     "name": "stdout",
     "output_type": "stream",
     "text": "Shape of training set: (850, 13)\nShape of validation set: (27, 13)\nShape of test set: (70, 13)\n"
    }
   ],
   "source": [
    "with open('heart_new.csv', newline='') as f:\n",
    "    data_list = list(csv.reader(f, quoting=csv.QUOTE_NONNUMERIC))\n",
    "\n",
    "#shuffling data set - it is ordered by target\n",
    "#np.random.seed(213718022)\n",
    "np.random.shuffle(data_list)\n",
    "\n",
    "#split target from data\n",
    "target = []\n",
    "for i in range(len(data_list)):\n",
    "    target = np.append(target, data_list[i].pop())\n",
    "    #if target[i] > 0:\n",
    "    #    target[i] = 1\n",
    "\n",
    "\n",
    "data = np.array(data_list)\n",
    "\n",
    "#split target and data into train, validation and test sets\n",
    "\n",
    "# dostosowywać do potrzeb i datasetu\n",
    "train_X = data[:850]\n",
    "train_y = target[:850]\n",
    "print('Shape of training set: ' + str(train_X.shape))\n",
    "\n",
    "# change y [1D] to Y [2D] sparse array coding class\n",
    "n_examples = len(train_y)\n",
    "labels = np.unique(train_y)\n",
    "train_Y = np.zeros((n_examples, len(labels)))\n",
    "for i in range(len(labels)):\n",
    "    # Find examples with with a Label = lables(i)\n",
    "    ix_tmp = np.where(train_y == labels[i])[0]\n",
    "    train_Y[ix_tmp, i] = 1\n",
    "\n",
    "# dostosowywać do potrzeb i datasetu\n",
    "# walidacja na tą chwilę nie przeprowadzana\n",
    "valid_X = data[250:277]\n",
    "valid_y = target[250:277]\n",
    "print('Shape of validation set: ' + str(valid_X.shape))\n",
    "\n",
    "# change y [1D] to Y [2D] sparse array coding class\n",
    "n_examples = len(valid_y)\n",
    "labels = np.unique(valid_y)\n",
    "valid_Y = np.zeros((n_examples, len(labels)))\n",
    "for i in range(len(labels)):\n",
    "    # Find examples with with a Label = lables(i)\n",
    "    ix_tmp = np.where(valid_y == labels[i])[0]\n",
    "    valid_Y[ix_tmp, i] = 1\n",
    "\n",
    "\n",
    "# dostosowywać do potrzeb i datasetu\n",
    "test_X = data[850:]\n",
    "test_y = target[850:]\n",
    "print('Shape of test set: ' + str(test_X.shape))\n",
    "\n",
    "# change y [1D] to Y [2D] sparse array coding class\n",
    "n_examples = len(test_y)\n",
    "labels = np.unique(test_y)\n",
    "test_Y = np.zeros((n_examples, len(labels)))\n",
    "for i in range(len(labels)):\n",
    "    # Find examples with with a Label = lables(i)\n",
    "    ix_tmp = np.where(test_y == labels[i])[0]\n",
    "    test_Y[ix_tmp, i] = 1\n",
    "\n"
   ]
  },
  {
   "cell_type": "code",
   "execution_count": 690,
   "metadata": {},
   "outputs": [
    {
     "name": "stdout",
     "output_type": "stream",
     "text": "<perceptron.Perceptron object at 0x0000019EC3B9D400>\n"
    }
   ],
   "source": [
    "#Creating the MLP object\n",
    "classifier = perceptron.Perceptron(layer_sizes = [13, 9, 2], bias=False)\n",
    "print(classifier)"
   ]
  },
  {
   "cell_type": "code",
   "execution_count": 691,
   "metadata": {},
   "outputs": [
    {
     "name": "stdout",
     "output_type": "stream",
     "text": "Training Accuracy: 47.529411764705884\n"
    },
    {
     "data": {
      "image/png": "[encoded data removed]",
      "image/svg+xml": "<?xml version=\"1.0\" encoding=\"utf-8\" standalone=\"no\"?>\r\n<!DOCTYPE svg PUBLIC \"-//W3C//DTD SVG 1.1//EN\"\r\n  \"http://www.w3.org/Graphics/SVG/1.1/DTD/svg11.dtd\">\r\n<!-- Created with matplotlib (https://matplotlib.org/) -->\r\n<svg height=\"248.518125pt\" version=\"1.1\" viewBox=\"0 0 378.465625 248.518125\" width=\"378.465625pt\" xmlns=\"http://www.w3.org/2000/svg\" xmlns:xlink=\"http://www.w3.org/1999/xlink\">\r\n <defs>\r\n  <style type=\"text/css\">\r\n*{stroke-linecap:butt;stroke-linejoin:round;}\r\n  </style>\r\n </defs>\r\n <g id=\"figure_1\">\r\n  <g id=\"patch_1\">\r\n   <path d=\"M 0 248.518125 \r\nL 378.465625 248.518125 \r\nL 378.465625 0 \r\nL 0 0 \r\nz\r\n\" style=\"fill:none;\"/>\r\n  </g>\r\n  <g id=\"axes_1\">\r\n   <g id=\"patch_2\">\r\n    <path d=\"M 36.465625 224.64 \r\nL 371.265625 224.64 \r\nL 371.265625 7.2 \r\nL 36.465625 7.2 \r\nz\r\n\" style=\"fill:#ffffff;\"/>\r\n   </g>\r\n   <g id=\"matplotlib.axis_1\">\r\n    <g id=\"xtick_1\">\r\n     <g id=\"line2d_1\">\r\n      <defs>\r\n       <path d=\"M 0 0 \r\nL 0 3.5 \r\n\" id=\"m91970339b5\" style=\"stroke:#000000;stroke-width:0.8;\"/>\r\n      </defs>\r\n      <g>\r\n       <use style=\"stroke:#000000;stroke-width:0.8;\" x=\"51.683807\" xlink:href=\"#m91970339b5\" y=\"224.64\"/>\r\n      </g>\r\n     </g>\r\n     <g id=\"text_1\">\r\n      <!-- 0 -->\r\n      <defs>\r\n       <path d=\"M 31.78125 66.40625 \r\nQ 24.171875 66.40625 20.328125 58.90625 \r\nQ 16.5 51.421875 16.5 36.375 \r\nQ 16.5 21.390625 20.328125 13.890625 \r\nQ 24.171875 6.390625 31.78125 6.390625 \r\nQ 39.453125 6.390625 43.28125 13.890625 \r\nQ 47.125 21.390625 47.125 36.375 \r\nQ 47.125 51.421875 43.28125 58.90625 \r\nQ 39.453125 66.40625 31.78125 66.40625 \r\nz\r\nM 31.78125 74.21875 \r\nQ 44.046875 74.21875 50.515625 64.515625 \r\nQ 56.984375 54.828125 56.984375 36.375 \r\nQ 56.984375 17.96875 50.515625 8.265625 \r\nQ 44.046875 -1.421875 31.78125 -1.421875 \r\nQ 19.53125 -1.421875 13.0625 8.265625 \r\nQ 6.59375 17.96875 6.59375 36.375 \r\nQ 6.59375 54.828125 13.0625 64.515625 \r\nQ 19.53125 74.21875 31.78125 74.21875 \r\nz\r\n\" id=\"DejaVuSans-48\"/>\r\n      </defs>\r\n      <g transform=\"translate(48.502557 239.238438)scale(0.1 -0.1)\">\r\n       <use xlink:href=\"#DejaVuSans-48\"/>\r\n      </g>\r\n     </g>\r\n    </g>\r\n    <g id=\"xtick_2\">\r\n     <g id=\"line2d_2\">\r\n      <g>\r\n       <use style=\"stroke:#000000;stroke-width:0.8;\" x=\"92.292698\" xlink:href=\"#m91970339b5\" y=\"224.64\"/>\r\n      </g>\r\n     </g>\r\n     <g id=\"text_2\">\r\n      <!-- 200 -->\r\n      <defs>\r\n       <path d=\"M 19.1875 8.296875 \r\nL 53.609375 8.296875 \r\nL 53.609375 0 \r\nL 7.328125 0 \r\nL 7.328125 8.296875 \r\nQ 12.9375 14.109375 22.625 23.890625 \r\nQ 32.328125 33.6875 34.8125 36.53125 \r\nQ 39.546875 41.84375 41.421875 45.53125 \r\nQ 43.3125 49.21875 43.3125 52.78125 \r\nQ 43.3125 58.59375 39.234375 62.25 \r\nQ 35.15625 65.921875 28.609375 65.921875 \r\nQ 23.96875 65.921875 18.8125 64.3125 \r\nQ 13.671875 62.703125 7.8125 59.421875 \r\nL 7.8125 69.390625 \r\nQ 13.765625 71.78125 18.9375 73 \r\nQ 24.125 74.21875 28.421875 74.21875 \r\nQ 39.75 74.21875 46.484375 68.546875 \r\nQ 53.21875 62.890625 53.21875 53.421875 \r\nQ 53.21875 48.921875 51.53125 44.890625 \r\nQ 49.859375 40.875 45.40625 35.40625 \r\nQ 44.1875 33.984375 37.640625 27.21875 \r\nQ 31.109375 20.453125 19.1875 8.296875 \r\nz\r\n\" id=\"DejaVuSans-50\"/>\r\n      </defs>\r\n      <g transform=\"translate(82.748948 239.238438)scale(0.1 -0.1)\">\r\n       <use xlink:href=\"#DejaVuSans-50\"/>\r\n       <use x=\"63.623047\" xlink:href=\"#DejaVuSans-48\"/>\r\n       <use x=\"127.246094\" xlink:href=\"#DejaVuSans-48\"/>\r\n      </g>\r\n     </g>\r\n    </g>\r\n    <g id=\"xtick_3\">\r\n     <g id=\"line2d_3\">\r\n      <g>\r\n       <use style=\"stroke:#000000;stroke-width:0.8;\" x=\"132.901588\" xlink:href=\"#m91970339b5\" y=\"224.64\"/>\r\n      </g>\r\n     </g>\r\n     <g id=\"text_3\">\r\n      <!-- 400 -->\r\n      <defs>\r\n       <path d=\"M 37.796875 64.3125 \r\nL 12.890625 25.390625 \r\nL 37.796875 25.390625 \r\nz\r\nM 35.203125 72.90625 \r\nL 47.609375 72.90625 \r\nL 47.609375 25.390625 \r\nL 58.015625 25.390625 \r\nL 58.015625 17.1875 \r\nL 47.609375 17.1875 \r\nL 47.609375 0 \r\nL 37.796875 0 \r\nL 37.796875 17.1875 \r\nL 4.890625 17.1875 \r\nL 4.890625 26.703125 \r\nz\r\n\" id=\"DejaVuSans-52\"/>\r\n      </defs>\r\n      <g transform=\"translate(123.357838 239.238438)scale(0.1 -0.1)\">\r\n       <use xlink:href=\"#DejaVuSans-52\"/>\r\n       <use x=\"63.623047\" xlink:href=\"#DejaVuSans-48\"/>\r\n       <use x=\"127.246094\" xlink:href=\"#DejaVuSans-48\"/>\r\n      </g>\r\n     </g>\r\n    </g>\r\n    <g id=\"xtick_4\">\r\n     <g id=\"line2d_4\">\r\n      <g>\r\n       <use style=\"stroke:#000000;stroke-width:0.8;\" x=\"173.510479\" xlink:href=\"#m91970339b5\" y=\"224.64\"/>\r\n      </g>\r\n     </g>\r\n     <g id=\"text_4\">\r\n      <!-- 600 -->\r\n      <defs>\r\n       <path d=\"M 33.015625 40.375 \r\nQ 26.375 40.375 22.484375 35.828125 \r\nQ 18.609375 31.296875 18.609375 23.390625 \r\nQ 18.609375 15.53125 22.484375 10.953125 \r\nQ 26.375 6.390625 33.015625 6.390625 \r\nQ 39.65625 6.390625 43.53125 10.953125 \r\nQ 47.40625 15.53125 47.40625 23.390625 \r\nQ 47.40625 31.296875 43.53125 35.828125 \r\nQ 39.65625 40.375 33.015625 40.375 \r\nz\r\nM 52.59375 71.296875 \r\nL 52.59375 62.3125 \r\nQ 48.875 64.0625 45.09375 64.984375 \r\nQ 41.3125 65.921875 37.59375 65.921875 \r\nQ 27.828125 65.921875 22.671875 59.328125 \r\nQ 17.53125 52.734375 16.796875 39.40625 \r\nQ 19.671875 43.65625 24.015625 45.921875 \r\nQ 28.375 48.1875 33.59375 48.1875 \r\nQ 44.578125 48.1875 50.953125 41.515625 \r\nQ 57.328125 34.859375 57.328125 23.390625 \r\nQ 57.328125 12.15625 50.6875 5.359375 \r\nQ 44.046875 -1.421875 33.015625 -1.421875 \r\nQ 20.359375 -1.421875 13.671875 8.265625 \r\nQ 6.984375 17.96875 6.984375 36.375 \r\nQ 6.984375 53.65625 15.1875 63.9375 \r\nQ 23.390625 74.21875 37.203125 74.21875 \r\nQ 40.921875 74.21875 44.703125 73.484375 \r\nQ 48.484375 72.75 52.59375 71.296875 \r\nz\r\n\" id=\"DejaVuSans-54\"/>\r\n      </defs>\r\n      <g transform=\"translate(163.966729 239.238438)scale(0.1 -0.1)\">\r\n       <use xlink:href=\"#DejaVuSans-54\"/>\r\n       <use x=\"63.623047\" xlink:href=\"#DejaVuSans-48\"/>\r\n       <use x=\"127.246094\" xlink:href=\"#DejaVuSans-48\"/>\r\n      </g>\r\n     </g>\r\n    </g>\r\n    <g id=\"xtick_5\">\r\n     <g id=\"line2d_5\">\r\n      <g>\r\n       <use style=\"stroke:#000000;stroke-width:0.8;\" x=\"214.11937\" xlink:href=\"#m91970339b5\" y=\"224.64\"/>\r\n      </g>\r\n     </g>\r\n     <g id=\"text_5\">\r\n      <!-- 800 -->\r\n      <defs>\r\n       <path d=\"M 31.78125 34.625 \r\nQ 24.75 34.625 20.71875 30.859375 \r\nQ 16.703125 27.09375 16.703125 20.515625 \r\nQ 16.703125 13.921875 20.71875 10.15625 \r\nQ 24.75 6.390625 31.78125 6.390625 \r\nQ 38.8125 6.390625 42.859375 10.171875 \r\nQ 46.921875 13.96875 46.921875 20.515625 \r\nQ 46.921875 27.09375 42.890625 30.859375 \r\nQ 38.875 34.625 31.78125 34.625 \r\nz\r\nM 21.921875 38.8125 \r\nQ 15.578125 40.375 12.03125 44.71875 \r\nQ 8.5 49.078125 8.5 55.328125 \r\nQ 8.5 64.0625 14.71875 69.140625 \r\nQ 20.953125 74.21875 31.78125 74.21875 \r\nQ 42.671875 74.21875 48.875 69.140625 \r\nQ 55.078125 64.0625 55.078125 55.328125 \r\nQ 55.078125 49.078125 51.53125 44.71875 \r\nQ 48 40.375 41.703125 38.8125 \r\nQ 48.828125 37.15625 52.796875 32.3125 \r\nQ 56.78125 27.484375 56.78125 20.515625 \r\nQ 56.78125 9.90625 50.3125 4.234375 \r\nQ 43.84375 -1.421875 31.78125 -1.421875 \r\nQ 19.734375 -1.421875 13.25 4.234375 \r\nQ 6.78125 9.90625 6.78125 20.515625 \r\nQ 6.78125 27.484375 10.78125 32.3125 \r\nQ 14.796875 37.15625 21.921875 38.8125 \r\nz\r\nM 18.3125 54.390625 \r\nQ 18.3125 48.734375 21.84375 45.5625 \r\nQ 25.390625 42.390625 31.78125 42.390625 \r\nQ 38.140625 42.390625 41.71875 45.5625 \r\nQ 45.3125 48.734375 45.3125 54.390625 \r\nQ 45.3125 60.0625 41.71875 63.234375 \r\nQ 38.140625 66.40625 31.78125 66.40625 \r\nQ 25.390625 66.40625 21.84375 63.234375 \r\nQ 18.3125 60.0625 18.3125 54.390625 \r\nz\r\n\" id=\"DejaVuSans-56\"/>\r\n      </defs>\r\n      <g transform=\"translate(204.57562 239.238438)scale(0.1 -0.1)\">\r\n       <use xlink:href=\"#DejaVuSans-56\"/>\r\n       <use x=\"63.623047\" xlink:href=\"#DejaVuSans-48\"/>\r\n       <use x=\"127.246094\" xlink:href=\"#DejaVuSans-48\"/>\r\n      </g>\r\n     </g>\r\n    </g>\r\n    <g id=\"xtick_6\">\r\n     <g id=\"line2d_6\">\r\n      <g>\r\n       <use style=\"stroke:#000000;stroke-width:0.8;\" x=\"254.728261\" xlink:href=\"#m91970339b5\" y=\"224.64\"/>\r\n      </g>\r\n     </g>\r\n     <g id=\"text_6\">\r\n      <!-- 1000 -->\r\n      <defs>\r\n       <path d=\"M 12.40625 8.296875 \r\nL 28.515625 8.296875 \r\nL 28.515625 63.921875 \r\nL 10.984375 60.40625 \r\nL 10.984375 69.390625 \r\nL 28.421875 72.90625 \r\nL 38.28125 72.90625 \r\nL 38.28125 8.296875 \r\nL 54.390625 8.296875 \r\nL 54.390625 0 \r\nL 12.40625 0 \r\nz\r\n\" id=\"DejaVuSans-49\"/>\r\n      </defs>\r\n      <g transform=\"translate(242.003261 239.238438)scale(0.1 -0.1)\">\r\n       <use xlink:href=\"#DejaVuSans-49\"/>\r\n       <use x=\"63.623047\" xlink:href=\"#DejaVuSans-48\"/>\r\n       <use x=\"127.246094\" xlink:href=\"#DejaVuSans-48\"/>\r\n       <use x=\"190.869141\" xlink:href=\"#DejaVuSans-48\"/>\r\n      </g>\r\n     </g>\r\n    </g>\r\n    <g id=\"xtick_7\">\r\n     <g id=\"line2d_7\">\r\n      <g>\r\n       <use style=\"stroke:#000000;stroke-width:0.8;\" x=\"295.337151\" xlink:href=\"#m91970339b5\" y=\"224.64\"/>\r\n      </g>\r\n     </g>\r\n     <g id=\"text_7\">\r\n      <!-- 1200 -->\r\n      <g transform=\"translate(282.612151 239.238438)scale(0.1 -0.1)\">\r\n       <use xlink:href=\"#DejaVuSans-49\"/>\r\n       <use x=\"63.623047\" xlink:href=\"#DejaVuSans-50\"/>\r\n       <use x=\"127.246094\" xlink:href=\"#DejaVuSans-48\"/>\r\n       <use x=\"190.869141\" xlink:href=\"#DejaVuSans-48\"/>\r\n      </g>\r\n     </g>\r\n    </g>\r\n    <g id=\"xtick_8\">\r\n     <g id=\"line2d_8\">\r\n      <g>\r\n       <use style=\"stroke:#000000;stroke-width:0.8;\" x=\"335.946042\" xlink:href=\"#m91970339b5\" y=\"224.64\"/>\r\n      </g>\r\n     </g>\r\n     <g id=\"text_8\">\r\n      <!-- 1400 -->\r\n      <g transform=\"translate(323.221042 239.238438)scale(0.1 -0.1)\">\r\n       <use xlink:href=\"#DejaVuSans-49\"/>\r\n       <use x=\"63.623047\" xlink:href=\"#DejaVuSans-52\"/>\r\n       <use x=\"127.246094\" xlink:href=\"#DejaVuSans-48\"/>\r\n       <use x=\"190.869141\" xlink:href=\"#DejaVuSans-48\"/>\r\n      </g>\r\n     </g>\r\n    </g>\r\n   </g>\r\n   <g id=\"matplotlib.axis_2\">\r\n    <g id=\"ytick_1\">\r\n     <g id=\"line2d_9\">\r\n      <defs>\r\n       <path d=\"M 0 0 \r\nL -3.5 0 \r\n\" id=\"mdfac32c264\" style=\"stroke:#000000;stroke-width:0.8;\"/>\r\n      </defs>\r\n      <g>\r\n       <use style=\"stroke:#000000;stroke-width:0.8;\" x=\"36.465625\" xlink:href=\"#mdfac32c264\" y=\"224.365455\"/>\r\n      </g>\r\n     </g>\r\n     <g id=\"text_9\">\r\n      <!-- 1.14 -->\r\n      <defs>\r\n       <path d=\"M 10.6875 12.40625 \r\nL 21 12.40625 \r\nL 21 0 \r\nL 10.6875 0 \r\nz\r\n\" id=\"DejaVuSans-46\"/>\r\n      </defs>\r\n      <g transform=\"translate(7.2 228.164673)scale(0.1 -0.1)\">\r\n       <use xlink:href=\"#DejaVuSans-49\"/>\r\n       <use x=\"63.623047\" xlink:href=\"#DejaVuSans-46\"/>\r\n       <use x=\"95.410156\" xlink:href=\"#DejaVuSans-49\"/>\r\n       <use x=\"159.033203\" xlink:href=\"#DejaVuSans-52\"/>\r\n      </g>\r\n     </g>\r\n    </g>\r\n    <g id=\"ytick_2\">\r\n     <g id=\"line2d_10\">\r\n      <g>\r\n       <use style=\"stroke:#000000;stroke-width:0.8;\" x=\"36.465625\" xlink:href=\"#mdfac32c264\" y=\"177.692727\"/>\r\n      </g>\r\n     </g>\r\n     <g id=\"text_10\">\r\n      <!-- 1.16 -->\r\n      <g transform=\"translate(7.2 181.491946)scale(0.1 -0.1)\">\r\n       <use xlink:href=\"#DejaVuSans-49\"/>\r\n       <use x=\"63.623047\" xlink:href=\"#DejaVuSans-46\"/>\r\n       <use x=\"95.410156\" xlink:href=\"#DejaVuSans-49\"/>\r\n       <use x=\"159.033203\" xlink:href=\"#DejaVuSans-54\"/>\r\n      </g>\r\n     </g>\r\n    </g>\r\n    <g id=\"ytick_3\">\r\n     <g id=\"line2d_11\">\r\n      <g>\r\n       <use style=\"stroke:#000000;stroke-width:0.8;\" x=\"36.465625\" xlink:href=\"#mdfac32c264\" y=\"131.02\"/>\r\n      </g>\r\n     </g>\r\n     <g id=\"text_11\">\r\n      <!-- 1.18 -->\r\n      <g transform=\"translate(7.2 134.819219)scale(0.1 -0.1)\">\r\n       <use xlink:href=\"#DejaVuSans-49\"/>\r\n       <use x=\"63.623047\" xlink:href=\"#DejaVuSans-46\"/>\r\n       <use x=\"95.410156\" xlink:href=\"#DejaVuSans-49\"/>\r\n       <use x=\"159.033203\" xlink:href=\"#DejaVuSans-56\"/>\r\n      </g>\r\n     </g>\r\n    </g>\r\n    <g id=\"ytick_4\">\r\n     <g id=\"line2d_12\">\r\n      <g>\r\n       <use style=\"stroke:#000000;stroke-width:0.8;\" x=\"36.465625\" xlink:href=\"#mdfac32c264\" y=\"84.347273\"/>\r\n      </g>\r\n     </g>\r\n     <g id=\"text_12\">\r\n      <!-- 1.20 -->\r\n      <g transform=\"translate(7.2 88.146491)scale(0.1 -0.1)\">\r\n       <use xlink:href=\"#DejaVuSans-49\"/>\r\n       <use x=\"63.623047\" xlink:href=\"#DejaVuSans-46\"/>\r\n       <use x=\"95.410156\" xlink:href=\"#DejaVuSans-50\"/>\r\n       <use x=\"159.033203\" xlink:href=\"#DejaVuSans-48\"/>\r\n      </g>\r\n     </g>\r\n    </g>\r\n    <g id=\"ytick_5\">\r\n     <g id=\"line2d_13\">\r\n      <g>\r\n       <use style=\"stroke:#000000;stroke-width:0.8;\" x=\"36.465625\" xlink:href=\"#mdfac32c264\" y=\"37.674545\"/>\r\n      </g>\r\n     </g>\r\n     <g id=\"text_13\">\r\n      <!-- 1.22 -->\r\n      <g transform=\"translate(7.2 41.473764)scale(0.1 -0.1)\">\r\n       <use xlink:href=\"#DejaVuSans-49\"/>\r\n       <use x=\"63.623047\" xlink:href=\"#DejaVuSans-46\"/>\r\n       <use x=\"95.410156\" xlink:href=\"#DejaVuSans-50\"/>\r\n       <use x=\"159.033203\" xlink:href=\"#DejaVuSans-50\"/>\r\n      </g>\r\n     </g>\r\n    </g>\r\n   </g>\r\n   <g id=\"line2d_14\">\r\n    <path clip-path=\"url(#pc1beae8f6a)\" d=\"M 51.683807 184.556364 \r\nL 52.089896 184.556364 \r\nL 52.29294 177.692727 \r\nL 52.495985 181.810909 \r\nL 52.699029 177.692727 \r\nL 52.902074 181.810909 \r\nL 53.105118 181.810909 \r\nL 53.308162 183.183636 \r\nL 53.714251 132.392727 \r\nL 53.917296 125.529091 \r\nL 54.12034 65.129091 \r\nL 54.323385 181.810909 \r\nL 54.729474 181.810909 \r\nL 54.932518 151.610909 \r\nL 56.150785 151.610909 \r\nL 56.556874 162.592727 \r\nL 56.759918 157.101818 \r\nL 56.962963 162.592727 \r\nL 57.166007 157.101818 \r\nL 57.369052 162.592727 \r\nL 57.572096 151.610909 \r\nL 57.77514 162.592727 \r\nL 58.181229 162.592727 \r\nL 58.384274 151.610909 \r\nL 58.587318 168.083636 \r\nL 59.805585 168.083636 \r\nL 60.008629 157.101818 \r\nL 60.211674 168.083636 \r\nL 60.414718 168.083636 \r\nL 60.617763 173.574545 \r\nL 61.023852 157.101818 \r\nL 61.226896 168.083636 \r\nL 61.429941 157.101818 \r\nL 61.632985 173.574545 \r\nL 61.83603 157.101818 \r\nL 62.039074 168.083636 \r\nL 62.445163 168.083636 \r\nL 62.648207 157.101818 \r\nL 62.851252 168.083636 \r\nL 64.272563 168.083636 \r\nL 64.475607 173.574545 \r\nL 64.881696 157.101818 \r\nL 65.084741 168.083636 \r\nL 65.287785 157.101818 \r\nL 65.49083 168.083636 \r\nL 65.693874 157.101818 \r\nL 65.896919 168.083636 \r\nL 66.099963 151.610909 \r\nL 66.303007 168.083636 \r\nL 69.754763 168.083636 \r\nL 69.957808 162.592727 \r\nL 70.160852 162.592727 \r\nL 70.363897 157.101818 \r\nL 70.566941 162.592727 \r\nL 70.769985 157.101818 \r\nL 70.97303 162.592727 \r\nL 71.176074 157.101818 \r\nL 71.379119 168.083636 \r\nL 71.582163 162.592727 \r\nL 71.785208 168.083636 \r\nL 71.988252 162.592727 \r\nL 72.191297 168.083636 \r\nL 81.531342 168.083636 \r\nL 81.734386 162.592727 \r\nL 82.140475 162.592727 \r\nL 82.343519 168.083636 \r\nL 93.510964 168.083636 \r\nL 93.714009 157.101818 \r\nL 93.917053 173.574545 \r\nL 94.323142 162.592727 \r\nL 94.526187 162.592727 \r\nL 94.729231 168.083636 \r\nL 95.13532 168.083636 \r\nL 95.338364 157.101818 \r\nL 95.541409 173.574545 \r\nL 95.744453 157.101818 \r\nL 95.947498 173.574545 \r\nL 96.150542 157.101818 \r\nL 96.353587 168.083636 \r\nL 100.008387 168.083636 \r\nL 100.211431 143.374545 \r\nL 102.44492 143.374545 \r\nL 102.647965 137.883636 \r\nL 102.851009 143.374545 \r\nL 107.114943 143.374545 \r\nL 107.317987 137.883636 \r\nL 110.566698 137.883636 \r\nL 110.769743 143.374545 \r\nL 111.378876 143.374545 \r\nL 111.581921 137.883636 \r\nL 111.784965 143.374545 \r\nL 112.191054 143.374545 \r\nL 112.394099 137.883636 \r\nL 112.597143 143.374545 \r\nL 112.800187 137.883636 \r\nL 113.003232 173.574545 \r\nL 113.206276 137.883636 \r\nL 113.409321 143.374545 \r\nL 113.612365 168.083636 \r\nL 140.820322 168.083636 \r\nL 141.023367 173.574545 \r\nL 141.226411 168.083636 \r\nL 148.332967 168.083636 \r\nL 148.536011 157.101818 \r\nL 148.739056 173.574545 \r\nL 148.9421 157.101818 \r\nL 149.348189 157.101818 \r\nL 149.551234 173.574545 \r\nL 149.754278 162.592727 \r\nL 149.957322 162.592727 \r\nL 150.160367 173.574545 \r\nL 150.363411 157.101818 \r\nL 150.7695 173.574545 \r\nL 150.972545 168.083636 \r\nL 151.175589 173.574545 \r\nL 151.378634 157.101818 \r\nL 151.581678 168.083636 \r\nL 151.784723 157.101818 \r\nL 152.190811 173.574545 \r\nL 152.393856 162.592727 \r\nL 152.5969 162.592727 \r\nL 152.799945 173.574545 \r\nL 153.002989 157.101818 \r\nL 153.206034 168.083636 \r\nL 153.409078 168.083636 \r\nL 153.612123 157.101818 \r\nL 153.815167 168.083636 \r\nL 154.018212 168.083636 \r\nL 154.221256 173.574545 \r\nL 154.4243 157.101818 \r\nL 154.830389 157.101818 \r\nL 155.033434 168.083636 \r\nL 155.236478 157.101818 \r\nL 155.642567 173.574545 \r\nL 155.845612 157.101818 \r\nL 156.454745 173.574545 \r\nL 156.657789 157.101818 \r\nL 156.860834 162.592727 \r\nL 157.063878 162.592727 \r\nL 157.266923 173.574545 \r\nL 157.469967 162.592727 \r\nL 157.673012 162.592727 \r\nL 157.876056 173.574545 \r\nL 158.079101 162.592727 \r\nL 158.282145 168.083636 \r\nL 203.967147 168.083636 \r\nL 204.170192 162.592727 \r\nL 204.373236 151.610909 \r\nL 204.576281 151.610909 \r\nL 204.982369 168.083636 \r\nL 205.185414 157.101818 \r\nL 205.388458 157.101818 \r\nL 205.591503 168.083636 \r\nL 207.215858 168.083636 \r\nL 207.418903 173.574545 \r\nL 207.621947 157.101818 \r\nL 207.824992 157.101818 \r\nL 208.028036 151.610909 \r\nL 208.434125 168.083636 \r\nL 208.63717 173.574545 \r\nL 209.043259 173.574545 \r\nL 209.246303 168.083636 \r\nL 209.449347 157.101818 \r\nL 209.652392 168.083636 \r\nL 210.058481 168.083636 \r\nL 210.261525 162.592727 \r\nL 210.46457 151.610909 \r\nL 210.667614 151.610909 \r\nL 210.870659 168.083636 \r\nL 211.073703 173.574545 \r\nL 211.276748 157.101818 \r\nL 211.479792 173.574545 \r\nL 211.682836 168.083636 \r\nL 212.088925 168.083636 \r\nL 212.29197 157.101818 \r\nL 212.495014 168.083636 \r\nL 213.307192 168.083636 \r\nL 213.510237 173.574545 \r\nL 213.713281 173.574545 \r\nL 213.916325 168.083636 \r\nL 235.642082 168.083636 \r\nL 235.845126 173.574545 \r\nL 236.048171 157.101818 \r\nL 236.251215 173.574545 \r\nL 236.45426 173.574545 \r\nL 236.657304 157.101818 \r\nL 237.266438 157.101818 \r\nL 237.672527 173.574545 \r\nL 237.875571 173.574545 \r\nL 238.078615 168.083636 \r\nL 250.261283 168.083636 \r\nL 250.667372 151.610909 \r\nL 250.870416 157.101818 \r\nL 251.073461 168.083636 \r\nL 263.053083 168.083636 \r\nL 263.256128 173.574545 \r\nL 263.459172 157.101818 \r\nL 264.068306 173.574545 \r\nL 264.27135 157.101818 \r\nL 264.474394 157.101818 \r\nL 264.677439 173.574545 \r\nL 264.880483 173.574545 \r\nL 265.083528 157.101818 \r\nL 265.489617 157.101818 \r\nL 265.692661 173.574545 \r\nL 265.895706 157.101818 \r\nL 266.09875 168.083636 \r\nL 281.327084 168.083636 \r\nL 281.530129 173.574545 \r\nL 281.936218 146.12 \r\nL 282.342306 146.12 \r\nL 282.545351 151.610909 \r\nL 282.95144 168.083636 \r\nL 283.154484 157.101818 \r\nL 283.357529 168.083636 \r\nL 298.179774 168.083636 \r\nL 298.382818 162.592727 \r\nL 298.585863 151.610909 \r\nL 298.991952 168.083636 \r\nL 299.194996 168.083636 \r\nL 299.601085 151.610909 \r\nL 299.804129 168.083636 \r\nL 300.210218 168.083636 \r\nL 300.616307 157.101818 \r\nL 300.819352 168.083636 \r\nL 319.702486 168.083636 \r\nL 319.90553 173.574545 \r\nL 320.108575 157.101818 \r\nL 320.311619 157.101818 \r\nL 320.514664 168.083636 \r\nL 320.920753 168.083636 \r\nL 321.123797 173.574545 \r\nL 321.326842 157.101818 \r\nL 321.529886 151.610909 \r\nL 321.73293 157.101818 \r\nL 321.935975 168.083636 \r\nL 322.342064 168.083636 \r\nL 322.545108 173.574545 \r\nL 322.748153 173.574545 \r\nL 322.951197 168.083636 \r\nL 336.352131 168.083636 \r\nL 336.555176 173.574545 \r\nL 336.75822 157.101818 \r\nL 337.164309 157.101818 \r\nL 337.773442 176.32 \r\nL 337.976487 192.792727 \r\nL 338.179531 198.283636 \r\nL 338.382576 214.756364 \r\nL 338.58562 170.829091 \r\nL 338.991709 203.774545 \r\nL 339.194754 203.774545 \r\nL 339.397798 17.083636 \r\nL 339.600842 192.792727 \r\nL 340.616065 192.792727 \r\nL 340.819109 196.910909 \r\nL 341.022154 192.792727 \r\nL 342.24042 192.792727 \r\nL 342.443465 168.083636 \r\nL 347.722621 168.083636 \r\nL 347.925665 172.201818 \r\nL 348.128709 172.201818 \r\nL 348.331754 168.083636 \r\nL 356.047443 168.083636 \r\nL 356.047443 168.083636 \r\n\" style=\"fill:none;stroke:#1f77b4;stroke-linecap:square;stroke-width:1.5;\"/>\r\n   </g>\r\n   <g id=\"patch_3\">\r\n    <path d=\"M 36.465625 224.64 \r\nL 36.465625 7.2 \r\n\" style=\"fill:none;stroke:#000000;stroke-linecap:square;stroke-linejoin:miter;stroke-width:0.8;\"/>\r\n   </g>\r\n   <g id=\"patch_4\">\r\n    <path d=\"M 371.265625 224.64 \r\nL 371.265625 7.2 \r\n\" style=\"fill:none;stroke:#000000;stroke-linecap:square;stroke-linejoin:miter;stroke-width:0.8;\"/>\r\n   </g>\r\n   <g id=\"patch_5\">\r\n    <path d=\"M 36.465625 224.64 \r\nL 371.265625 224.64 \r\n\" style=\"fill:none;stroke:#000000;stroke-linecap:square;stroke-linejoin:miter;stroke-width:0.8;\"/>\r\n   </g>\r\n   <g id=\"patch_6\">\r\n    <path d=\"M 36.465625 7.2 \r\nL 371.265625 7.2 \r\n\" style=\"fill:none;stroke:#000000;stroke-linecap:square;stroke-linejoin:miter;stroke-width:0.8;\"/>\r\n   </g>\r\n  </g>\r\n </g>\r\n <defs>\r\n  <clipPath id=\"pc1beae8f6a\">\r\n   <rect height=\"217.44\" width=\"334.8\" x=\"36.465625\" y=\"7.2\"/>\r\n  </clipPath>\r\n </defs>\r\n</svg>\r\n",
      "text/plain": "<Figure size 432x288 with 1 Axes>"
     },
     "metadata": {
      "needs_background": "light"
     },
     "output_type": "display_data"
    }
   ],
   "source": [
    "# Training with Backpropagation and 400 iterations\n",
    "iterations = 1500\n",
    "loss = np.zeros([iterations,1])\n",
    "\n",
    "for ix in range(iterations):\n",
    "    classifier.train(train_X, train_Y, 1)\n",
    "    Y_hat = classifier.solve(train_X)\n",
    "    y_tmp = np.argmax(Y_hat, axis=1)\n",
    "    y_hat = labels[y_tmp]\n",
    "    \n",
    "    loss[ix] = (0.5)*np.square(y_hat - train_y).mean()\n",
    "\n",
    "# Ploting loss vs iterations\n",
    "plt.figure()\n",
    "ix = np.arange(iterations)\n",
    "plt.plot(ix, loss)\n",
    "\n",
    "# Training Accuracy\n",
    "Y_hat = classifier.solve(train_X)\n",
    "y_tmp = np.argmax(Y_hat, axis=1)\n",
    "y_hat = labels[y_tmp]\n",
    "\n",
    "acc = np.mean(1 * (y_hat == train_y))\n",
    "print('Training Accuracy: ' + str(acc*100))"
   ]
  },
  {
   "cell_type": "code",
   "execution_count": 692,
   "metadata": {},
   "outputs": [
    {
     "name": "stdout",
     "output_type": "stream",
     "text": "0.5714285714285714\nTesting Accuracy: 57.14285714285714\n[0. 1. 0. 0. 0. 0. 0. 0. 0. 0. 0. 0. 0. 0. 0. 0. 0. 0. 0. 0. 0. 0. 0. 0.\n 0. 0. 0. 0. 0. 0. 0. 0. 1. 0. 0. 1. 0. 3. 0. 0. 0. 0. 0. 0. 0. 1. 0. 0.\n 0. 0. 0. 0. 1. 1. 0. 0. 1. 0. 0. 0. 1. 0. 0. 1. 0. 0. 0. 0. 0. 0.]\n[3. 1. 0. 3. 0. 4. 0. 0. 3. 4. 0. 1. 0. 0. 2. 2. 3. 0. 0. 2. 1. 0. 0. 4.\n 0. 0. 2. 0. 4. 3. 4. 4. 1. 3. 0. 4. 0. 1. 0. 3. 0. 0. 4. 1. 0. 2. 0. 2.\n 3. 0. 0. 1. 2. 1. 0. 4. 2. 3. 3. 0. 1. 0. 2. 1. 1. 0. 0. 0. 0. 1.]\n"
    }
   ],
   "source": [
    "# Test Accuracy\n",
    "Y_hat = classifier.solve(test_X)\n",
    "#print(Y_hat)\n",
    "y_tmp = np.argmax(Y_hat, axis=1)\n",
    "y_hat = labels[y_tmp]\n",
    "\n",
    "#for i in range(len(y_hat)):\n",
    " #   if y_hat[i] != 0:\n",
    "  #      y_hat[i] = 1\n",
    "   # if test_y[i] != 0:\n",
    "    #    test_y[i] = 1\n",
    "    \n",
    "n_same = 0\n",
    "for i in range(len(y_hat)):\n",
    "    if (y_hat[i] > 0 and test_y[i]>0) or (y_hat[i] < 1 and test_y[i] < 1):\n",
    "        n_same+=1\n",
    "        \n",
    "print(n_same / len(y_hat))\n",
    "\n",
    "acc = 1 - np.mean(1 * ((y_hat>0) ^ (test_y>0)))\n",
    "print('Testing Accuracy: ' + str(acc*100)) \n",
    "print(y_hat)\n",
    "print(test_y)"
   ]
  },
  {
   "cell_type": "code",
   "execution_count": null,
   "metadata": {
    "collapsed": true
   },
   "outputs": [],
   "source": []
  }
 ],
 "metadata": {
  "kernelspec": {
   "display_name": "Python 3.8.1 64-bit",
   "language": "python",
   "name": "python38164bit344c78bd61754c6591c174137e5f1c2e"
  },
  "language_info": {
   "codemirror_mode": {
    "name": "ipython",
    "version": 3
   },
   "file_extension": ".py",
   "mimetype": "text/x-python",
   "name": "python",
   "nbconvert_exporter": "python",
   "pygments_lexer": "ipython3",
   "version": "3.8.1-final"
  }
 },
 "nbformat": 4,
 "nbformat_minor": 2
}